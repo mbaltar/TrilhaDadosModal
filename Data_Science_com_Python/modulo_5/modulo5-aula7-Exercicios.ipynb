{
 "cells": [
  {
   "cell_type": "markdown",
   "metadata": {},
   "source": [
    "# Exercício 1: Classificação"
   ]
  },
  {
   "cell_type": "markdown",
   "metadata": {},
   "source": [
    "Passos:\n",
    "\n",
    "1. Selecionar os dados de origem\n",
    "2. Quebrar as variáveis categóricas e numéricas\n",
    "3. Tratar as variáveis categóricas\n",
    "4. Juntar os dados e formar a ABT\n",
    "5. Aplicar feature selection\n",
    "6. Selecionar os dados para a ABT final de modelagem\n",
    "7. Estruturar o dicionário para tunning\n",
    "8. Instanciar os obj\n",
    "9. Executar o train\n",
    "10. Observar os resultados"
   ]
  },
  {
   "cell_type": "code",
   "execution_count": 14,
   "metadata": {},
   "outputs": [],
   "source": [
    "import pandas as pd\n",
    "import seaborn as sns\n",
    "import matplotlib.pyplot as plt\n",
    "\n",
    "from sklearn.model_selection import train_test_split\n",
    "\n",
    "from sklearn.feature_selection import SelectKBest\n",
    "from sklearn.feature_selection import SelectFromModel\n",
    "from sklearn.feature_selection import RFE\n",
    "from sklearn.feature_selection import chi2\n",
    "from sklearn.linear_model import LogisticRegression\n",
    "\n",
    "from sklearn.preprocessing import MinMaxScaler\n",
    "\n",
    "from sklearn.tree import DecisionTreeRegressor\n",
    "from sklearn.ensemble import RandomForestRegressor\n",
    "from sklearn.ensemble import GradientBoostingClassifier\n",
    "from sklearn.ensemble import GradientBoostingRegressor\n",
    "\n",
    "from sklearn.model_selection import cross_val_score\n",
    "from sklearn.model_selection import GridSearchCV\n",
    "\n",
    "from sklearn.metrics import mean_absolute_error, r2_score, mean_squared_error\n",
    "from sklearn.metrics import make_scorer\n",
    "from sklearn.metrics import accuracy_score\n",
    "\n",
    "# configs do Pandas\n",
    "pd.set_option('display.max_columns', None)\n",
    "pd.set_option('display.max_colwidth', None)\n",
    "pd.set_option('display.width', None)"
   ]
  },
  {
   "cell_type": "code",
   "execution_count": 3,
   "metadata": {},
   "outputs": [
    {
     "data": {
      "text/plain": [
       "age             int64\n",
       "job            object\n",
       "marital        object\n",
       "education      object\n",
       "default        object\n",
       "housing        object\n",
       "loan           object\n",
       "contact        object\n",
       "month          object\n",
       "day_of_week    object\n",
       "duration        int64\n",
       "campaign        int64\n",
       "pdays           int64\n",
       "previous        int64\n",
       "poutcome       object\n",
       "y              object\n",
       "difficulty      int64\n",
       "dtype: object"
      ]
     },
     "execution_count": 3,
     "metadata": {},
     "output_type": "execute_result"
    }
   ],
   "source": [
    "df = pd.read_csv('new_train.csv', sep=',')\n",
    "df['difficulty'] = -1 # desconhecido\n",
    "df.loc[(df['poutcome'] == 'success') & (df['previous'].between(0, 1)), 'difficulty'] = 0 # fácil\n",
    "df.loc[(df['poutcome'] == 'success') & (df['previous'].between(2, 4)), 'difficulty'] = 1 # médio\n",
    "df.loc[(df['poutcome'] == 'success') & (df['previous'].between(5, 7)), 'difficulty'] = 2 # difícil\n",
    "df.loc[(df['poutcome'] == 'nonexistent') & (df['previous'] > 7), 'difficulty'] = 3 # muito difícil\n",
    "df.loc[(df['poutcome'] == 'failure'), 'difficulty'] = 4 # impossível\n",
    "df_exercicio = df.copy()\n",
    "df_exercicio.dtypes"
   ]
  },
  {
   "cell_type": "code",
   "execution_count": 5,
   "metadata": {},
   "outputs": [],
   "source": [
    "# Passo 2\n",
    "df_exercicio_cat = df_exercicio.drop(columns=['age', 'duration', 'campaign', 'pdays', 'previous', 'difficulty', 'y'], axis=1)\n",
    "df_exercicio_num = df_exercicio.drop(columns=['job', 'marital', 'education', 'default', 'housing', 'loan', 'contact', 'month', 'day_of_week', 'poutcome', 'y'], axis=1)\n",
    "df_exercicio_var_resp = df_exercicio['y']\n",
    "\n",
    "df_exercicio_var_resp = df_exercicio_var_resp.replace('no', 0)\n",
    "df_exercicio_var_resp = df_exercicio_var_resp.replace('yes', 1)\n",
    "\n",
    "# Passe 3\n",
    "df_exercicio_cat_dum = pd.get_dummies(df_exercicio_cat, prefix_sep='_', columns=df_exercicio_cat.columns, drop_first=True)\n",
    "\n",
    "# Passo 4\n",
    "df_exerciocio_feature_selection = df_exercicio_cat_dum.merge(df_exercicio_num, left_index=True, right_index=True)"
   ]
  },
  {
   "cell_type": "code",
   "execution_count": 10,
   "metadata": {},
   "outputs": [
    {
     "data": {
      "text/plain": [
       "['contact_telephone',\n",
       " 'month_mar',\n",
       " 'month_oct',\n",
       " 'month_sep',\n",
       " 'poutcome_success']"
      ]
     },
     "execution_count": 10,
     "metadata": {},
     "output_type": "execute_result"
    }
   ],
   "source": [
    "# Normalizando\n",
    "df_exercicio_cat_dum_norm = MinMaxScaler().fit_transform(df_exercicio_cat_dum)\n",
    "\n",
    "# Feature selection categóricas\n",
    "selecao_chi = SelectKBest(chi2, k=5)\n",
    "selecao_chi.fit(df_exercicio_cat_dum_norm, df_exercicio_var_resp)\n",
    "suport_chi = selecao_chi.get_support()\n",
    "features_chi = df_exercicio_cat_dum.loc[:, suport_chi].columns.tolist()\n",
    "features_chi"
   ]
  },
  {
   "cell_type": "code",
   "execution_count": 12,
   "metadata": {},
   "outputs": [
    {
     "data": {
      "text/plain": [
       "['campaign', 'previous', 'difficulty']"
      ]
     },
     "execution_count": 12,
     "metadata": {},
     "output_type": "execute_result"
    }
   ],
   "source": [
    "# Feature selection numéricas\n",
    "\n",
    "selecao_rfe = RFE(estimator=LogisticRegression(random_state=42, max_iter=200), n_features_to_select=3, step=1)\n",
    "selecao_rfe.fit(df_exercicio_num, df_exercicio_var_resp)\n",
    "rfe_suporte = selecao_rfe.get_support()\n",
    "rfe_features = df_exercicio_num.loc[:, rfe_suporte].columns.tolist()\n",
    "rfe_features"
   ]
  },
  {
   "cell_type": "markdown",
   "metadata": {},
   "source": [
    "## Modelagem"
   ]
  },
  {
   "cell_type": "code",
   "execution_count": 13,
   "metadata": {},
   "outputs": [],
   "source": [
    "df_exerciocio_modelagem = df_exercicio_cat_dum.merge(df_exercicio_num, left_index=True, right_index=True)\n",
    "\n",
    "# Separando em treino e teste\n",
    "x_treino_exer, x_teste_exer, y_treino_exer, y_teste_exer = train_test_split(df_exerciocio_modelagem, df_exercicio_var_resp, test_size=0.3, random_state=42)\n",
    "\n",
    "# Dicionário para tunning de hiperparâmetros\n",
    "exercicioj_dict = {\n",
    "    'n_estimators':[500, 100],\n",
    "    'min_samples_leaf':[2, 100],\n",
    "    'min_samples_split':[10, 200],\n",
    "    'random_state':[42]\n",
    "}"
   ]
  },
  {
   "cell_type": "code",
   "execution_count": 15,
   "metadata": {},
   "outputs": [
    {
     "data": {
      "text/plain": [
       "GridSearchCV(cv=2, estimator=GradientBoostingClassifier(random_state=42),\n",
       "             param_grid={'min_samples_leaf': [2, 100],\n",
       "                         'min_samples_split': [10, 200],\n",
       "                         'n_estimators': [500, 100], 'random_state': [42]},\n",
       "             scoring=make_scorer(accuracy_score))"
      ]
     },
     "execution_count": 15,
     "metadata": {},
     "output_type": "execute_result"
    }
   ],
   "source": [
    "# Modelo\n",
    "gb_exercicio = GradientBoostingClassifier(random_state=42)\n",
    "\n",
    "# Tunning\n",
    "gb_exercicio_tunning = GridSearchCV(gb_exercicio, exercicioj_dict, cv=2, scoring=make_scorer(accuracy_score))\n",
    "\n",
    "gb_exercicio_tunning.fit(x_treino_exer, y_treino_exer)"
   ]
  },
  {
   "cell_type": "code",
   "execution_count": 16,
   "metadata": {},
   "outputs": [
    {
     "data": {
      "text/plain": [
       "GradientBoostingClassifier(min_samples_leaf=100, min_samples_split=10,\n",
       "                           random_state=42)"
      ]
     },
     "execution_count": 16,
     "metadata": {},
     "output_type": "execute_result"
    }
   ],
   "source": [
    "gb_exercicio_tunning.best_estimator_"
   ]
  },
  {
   "cell_type": "code",
   "execution_count": 17,
   "metadata": {},
   "outputs": [
    {
     "data": {
      "text/plain": [
       "0.9088662361116161"
      ]
     },
     "execution_count": 17,
     "metadata": {},
     "output_type": "execute_result"
    }
   ],
   "source": [
    "gb_exercicio_tunning.best_score_"
   ]
  },
  {
   "cell_type": "code",
   "execution_count": 18,
   "metadata": {},
   "outputs": [
    {
     "data": {
      "text/plain": [
       "0.9095599393019727"
      ]
     },
     "execution_count": 18,
     "metadata": {},
     "output_type": "execute_result"
    }
   ],
   "source": [
    "accuracy_score(y_teste_exer, gb_exercicio_tunning.predict(x_teste_exer))"
   ]
  },
  {
   "cell_type": "code",
   "execution_count": 19,
   "metadata": {},
   "outputs": [
    {
     "data": {
      "text/plain": [
       "0.9141990028181227"
      ]
     },
     "execution_count": 19,
     "metadata": {},
     "output_type": "execute_result"
    }
   ],
   "source": [
    "accuracy_score(y_treino_exer, gb_exercicio_tunning.predict(x_treino_exer))"
   ]
  },
  {
   "cell_type": "code",
   "execution_count": 20,
   "metadata": {},
   "outputs": [
    {
     "data": {
      "text/plain": [
       "['gb_exercicio_tunning.pkl']"
      ]
     },
     "execution_count": 20,
     "metadata": {},
     "output_type": "execute_result"
    }
   ],
   "source": [
    "import joblib\n",
    "joblib.dump(gb_exercicio_tunning, 'gb_exercicio_tunning.pkl')"
   ]
  },
  {
   "cell_type": "markdown",
   "metadata": {},
   "source": [
    "# Exercício 2: Regressão"
   ]
  },
  {
   "cell_type": "markdown",
   "metadata": {},
   "source": [
    "Passos a serem seguidos:\n",
    "1. Selecionar os dados de origem\n",
    "2. Quebrar as categóricas e numéricas\n",
    "3. Juntar os dados e formar a ABT\n",
    "4. Aplicar feature selection\n",
    "5. Selecionar os dados para a ABT de modelagem\n",
    "6. Estruturar o dicionário para tunning\n",
    "7. Instanciar os objetos\n",
    "8. Executar o train\n",
    "9. Observar os resultados\n",
    "10. Serializar o modelo final"
   ]
  },
  {
   "cell_type": "code",
   "execution_count": 24,
   "metadata": {},
   "outputs": [
    {
     "data": {
      "text/plain": [
       "age             int64\n",
       "job            object\n",
       "marital        object\n",
       "education      object\n",
       "default        object\n",
       "housing        object\n",
       "loan           object\n",
       "contact        object\n",
       "month          object\n",
       "day_of_week    object\n",
       "duration        int64\n",
       "campaign        int64\n",
       "pdays           int64\n",
       "previous        int64\n",
       "poutcome       object\n",
       "difficulty      int64\n",
       "dtype: object"
      ]
     },
     "execution_count": 24,
     "metadata": {},
     "output_type": "execute_result"
    }
   ],
   "source": [
    "dados = pd.read_csv('new_train.csv', sep=',')\n",
    "dados.drop(columns=['y'], axis=1, inplace=True)\n",
    "dados['difficulty'] = -1 # desconhecido\n",
    "dados.loc[(dados['poutcome'] == 'success') & (dados['previous'].between(0, 4)), 'difficulty'] = 0 # fácil e médio\n",
    "dados.loc[(dados['poutcome'] == 'success') & (dados['previous'].between(5, 8)), 'difficulty'] = 1 # difícil e muito difícil\n",
    "dados.loc[(dados['poutcome'] == 'failure'), 'difficulty'] = 2 # impossível\n",
    "df_exercicio2 = dados.copy()\n",
    "df_exercicio2.dtypes"
   ]
  },
  {
   "cell_type": "code",
   "execution_count": 25,
   "metadata": {},
   "outputs": [
    {
     "data": {
      "text/plain": [
       "Index(['job', 'marital', 'education', 'default', 'housing', 'loan', 'contact',\n",
       "       'month', 'day_of_week', 'poutcome'],\n",
       "      dtype='object')"
      ]
     },
     "execution_count": 25,
     "metadata": {},
     "output_type": "execute_result"
    }
   ],
   "source": [
    "df_exercicio2_cat = df_exercicio2.drop(columns=['age', 'duration', 'campaign', 'pdays', 'previous', 'difficulty'], axis=1)\n",
    "df_exercicio2_cat.columns"
   ]
  },
  {
   "cell_type": "code",
   "execution_count": 27,
   "metadata": {},
   "outputs": [
    {
     "data": {
      "text/plain": [
       "Index(['duration', 'campaign', 'pdays', 'previous', 'difficulty'], dtype='object')"
      ]
     },
     "execution_count": 27,
     "metadata": {},
     "output_type": "execute_result"
    }
   ],
   "source": [
    "# Tira a variável 'age' porque ela vai ser nossa variável resposta\n",
    "df_exercicio2_num = df_exercicio2.drop(columns=['job', 'marital', 'education', 'default', 'housing', 'loan', 'contact', 'month', 'day_of_week', 'poutcome', 'age'])\n",
    "df_exercicio2_num.columns"
   ]
  },
  {
   "cell_type": "code",
   "execution_count": 29,
   "metadata": {},
   "outputs": [
    {
     "data": {
      "text/html": [
       "<div>\n",
       "<style scoped>\n",
       "    .dataframe tbody tr th:only-of-type {\n",
       "        vertical-align: middle;\n",
       "    }\n",
       "\n",
       "    .dataframe tbody tr th {\n",
       "        vertical-align: top;\n",
       "    }\n",
       "\n",
       "    .dataframe thead th {\n",
       "        text-align: right;\n",
       "    }\n",
       "</style>\n",
       "<table border=\"1\" class=\"dataframe\">\n",
       "  <thead>\n",
       "    <tr style=\"text-align: right;\">\n",
       "      <th></th>\n",
       "      <th>job_blue-collar</th>\n",
       "      <th>job_entrepreneur</th>\n",
       "      <th>job_housemaid</th>\n",
       "      <th>job_management</th>\n",
       "      <th>job_retired</th>\n",
       "      <th>job_self-employed</th>\n",
       "      <th>job_services</th>\n",
       "      <th>job_student</th>\n",
       "      <th>job_technician</th>\n",
       "      <th>job_unemployed</th>\n",
       "      <th>job_unknown</th>\n",
       "      <th>marital_married</th>\n",
       "      <th>marital_single</th>\n",
       "      <th>marital_unknown</th>\n",
       "      <th>education_basic.6y</th>\n",
       "      <th>education_basic.9y</th>\n",
       "      <th>education_high.school</th>\n",
       "      <th>education_illiterate</th>\n",
       "      <th>education_professional.course</th>\n",
       "      <th>education_university.degree</th>\n",
       "      <th>education_unknown</th>\n",
       "      <th>default_unknown</th>\n",
       "      <th>default_yes</th>\n",
       "      <th>housing_unknown</th>\n",
       "      <th>housing_yes</th>\n",
       "      <th>loan_unknown</th>\n",
       "      <th>loan_yes</th>\n",
       "      <th>contact_telephone</th>\n",
       "      <th>month_aug</th>\n",
       "      <th>month_dec</th>\n",
       "      <th>month_jul</th>\n",
       "      <th>month_jun</th>\n",
       "      <th>month_mar</th>\n",
       "      <th>month_may</th>\n",
       "      <th>month_nov</th>\n",
       "      <th>month_oct</th>\n",
       "      <th>month_sep</th>\n",
       "      <th>day_of_week_mon</th>\n",
       "      <th>day_of_week_thu</th>\n",
       "      <th>day_of_week_tue</th>\n",
       "      <th>day_of_week_wed</th>\n",
       "      <th>poutcome_nonexistent</th>\n",
       "      <th>poutcome_success</th>\n",
       "    </tr>\n",
       "  </thead>\n",
       "  <tbody>\n",
       "    <tr>\n",
       "      <th>0</th>\n",
       "      <td>1</td>\n",
       "      <td>0</td>\n",
       "      <td>0</td>\n",
       "      <td>0</td>\n",
       "      <td>0</td>\n",
       "      <td>0</td>\n",
       "      <td>0</td>\n",
       "      <td>0</td>\n",
       "      <td>0</td>\n",
       "      <td>0</td>\n",
       "      <td>0</td>\n",
       "      <td>1</td>\n",
       "      <td>0</td>\n",
       "      <td>0</td>\n",
       "      <td>0</td>\n",
       "      <td>1</td>\n",
       "      <td>0</td>\n",
       "      <td>0</td>\n",
       "      <td>0</td>\n",
       "      <td>0</td>\n",
       "      <td>0</td>\n",
       "      <td>1</td>\n",
       "      <td>0</td>\n",
       "      <td>0</td>\n",
       "      <td>0</td>\n",
       "      <td>0</td>\n",
       "      <td>0</td>\n",
       "      <td>0</td>\n",
       "      <td>0</td>\n",
       "      <td>0</td>\n",
       "      <td>0</td>\n",
       "      <td>0</td>\n",
       "      <td>0</td>\n",
       "      <td>0</td>\n",
       "      <td>1</td>\n",
       "      <td>0</td>\n",
       "      <td>0</td>\n",
       "      <td>0</td>\n",
       "      <td>0</td>\n",
       "      <td>0</td>\n",
       "      <td>1</td>\n",
       "      <td>1</td>\n",
       "      <td>0</td>\n",
       "    </tr>\n",
       "    <tr>\n",
       "      <th>1</th>\n",
       "      <td>0</td>\n",
       "      <td>1</td>\n",
       "      <td>0</td>\n",
       "      <td>0</td>\n",
       "      <td>0</td>\n",
       "      <td>0</td>\n",
       "      <td>0</td>\n",
       "      <td>0</td>\n",
       "      <td>0</td>\n",
       "      <td>0</td>\n",
       "      <td>0</td>\n",
       "      <td>1</td>\n",
       "      <td>0</td>\n",
       "      <td>0</td>\n",
       "      <td>0</td>\n",
       "      <td>0</td>\n",
       "      <td>0</td>\n",
       "      <td>0</td>\n",
       "      <td>0</td>\n",
       "      <td>1</td>\n",
       "      <td>0</td>\n",
       "      <td>0</td>\n",
       "      <td>0</td>\n",
       "      <td>0</td>\n",
       "      <td>0</td>\n",
       "      <td>0</td>\n",
       "      <td>0</td>\n",
       "      <td>1</td>\n",
       "      <td>0</td>\n",
       "      <td>0</td>\n",
       "      <td>0</td>\n",
       "      <td>0</td>\n",
       "      <td>0</td>\n",
       "      <td>0</td>\n",
       "      <td>1</td>\n",
       "      <td>0</td>\n",
       "      <td>0</td>\n",
       "      <td>0</td>\n",
       "      <td>0</td>\n",
       "      <td>0</td>\n",
       "      <td>1</td>\n",
       "      <td>0</td>\n",
       "      <td>0</td>\n",
       "    </tr>\n",
       "    <tr>\n",
       "      <th>2</th>\n",
       "      <td>0</td>\n",
       "      <td>0</td>\n",
       "      <td>0</td>\n",
       "      <td>0</td>\n",
       "      <td>1</td>\n",
       "      <td>0</td>\n",
       "      <td>0</td>\n",
       "      <td>0</td>\n",
       "      <td>0</td>\n",
       "      <td>0</td>\n",
       "      <td>0</td>\n",
       "      <td>1</td>\n",
       "      <td>0</td>\n",
       "      <td>0</td>\n",
       "      <td>0</td>\n",
       "      <td>0</td>\n",
       "      <td>0</td>\n",
       "      <td>0</td>\n",
       "      <td>0</td>\n",
       "      <td>0</td>\n",
       "      <td>0</td>\n",
       "      <td>0</td>\n",
       "      <td>0</td>\n",
       "      <td>0</td>\n",
       "      <td>0</td>\n",
       "      <td>0</td>\n",
       "      <td>0</td>\n",
       "      <td>0</td>\n",
       "      <td>0</td>\n",
       "      <td>0</td>\n",
       "      <td>1</td>\n",
       "      <td>0</td>\n",
       "      <td>0</td>\n",
       "      <td>0</td>\n",
       "      <td>0</td>\n",
       "      <td>0</td>\n",
       "      <td>0</td>\n",
       "      <td>1</td>\n",
       "      <td>0</td>\n",
       "      <td>0</td>\n",
       "      <td>0</td>\n",
       "      <td>1</td>\n",
       "      <td>0</td>\n",
       "    </tr>\n",
       "    <tr>\n",
       "      <th>3</th>\n",
       "      <td>0</td>\n",
       "      <td>0</td>\n",
       "      <td>0</td>\n",
       "      <td>0</td>\n",
       "      <td>0</td>\n",
       "      <td>0</td>\n",
       "      <td>0</td>\n",
       "      <td>0</td>\n",
       "      <td>0</td>\n",
       "      <td>0</td>\n",
       "      <td>0</td>\n",
       "      <td>1</td>\n",
       "      <td>0</td>\n",
       "      <td>0</td>\n",
       "      <td>0</td>\n",
       "      <td>0</td>\n",
       "      <td>0</td>\n",
       "      <td>0</td>\n",
       "      <td>0</td>\n",
       "      <td>1</td>\n",
       "      <td>0</td>\n",
       "      <td>0</td>\n",
       "      <td>0</td>\n",
       "      <td>0</td>\n",
       "      <td>1</td>\n",
       "      <td>0</td>\n",
       "      <td>0</td>\n",
       "      <td>1</td>\n",
       "      <td>0</td>\n",
       "      <td>0</td>\n",
       "      <td>0</td>\n",
       "      <td>0</td>\n",
       "      <td>0</td>\n",
       "      <td>1</td>\n",
       "      <td>0</td>\n",
       "      <td>0</td>\n",
       "      <td>0</td>\n",
       "      <td>1</td>\n",
       "      <td>0</td>\n",
       "      <td>0</td>\n",
       "      <td>0</td>\n",
       "      <td>1</td>\n",
       "      <td>0</td>\n",
       "    </tr>\n",
       "    <tr>\n",
       "      <th>4</th>\n",
       "      <td>0</td>\n",
       "      <td>0</td>\n",
       "      <td>0</td>\n",
       "      <td>0</td>\n",
       "      <td>1</td>\n",
       "      <td>0</td>\n",
       "      <td>0</td>\n",
       "      <td>0</td>\n",
       "      <td>0</td>\n",
       "      <td>0</td>\n",
       "      <td>0</td>\n",
       "      <td>0</td>\n",
       "      <td>0</td>\n",
       "      <td>0</td>\n",
       "      <td>0</td>\n",
       "      <td>0</td>\n",
       "      <td>0</td>\n",
       "      <td>0</td>\n",
       "      <td>0</td>\n",
       "      <td>1</td>\n",
       "      <td>0</td>\n",
       "      <td>0</td>\n",
       "      <td>0</td>\n",
       "      <td>0</td>\n",
       "      <td>0</td>\n",
       "      <td>0</td>\n",
       "      <td>0</td>\n",
       "      <td>0</td>\n",
       "      <td>0</td>\n",
       "      <td>0</td>\n",
       "      <td>0</td>\n",
       "      <td>1</td>\n",
       "      <td>0</td>\n",
       "      <td>0</td>\n",
       "      <td>0</td>\n",
       "      <td>0</td>\n",
       "      <td>0</td>\n",
       "      <td>0</td>\n",
       "      <td>0</td>\n",
       "      <td>1</td>\n",
       "      <td>0</td>\n",
       "      <td>1</td>\n",
       "      <td>0</td>\n",
       "    </tr>\n",
       "  </tbody>\n",
       "</table>\n",
       "</div>"
      ],
      "text/plain": [
       "   job_blue-collar  job_entrepreneur  job_housemaid  job_management  \\\n",
       "0                1                 0              0               0   \n",
       "1                0                 1              0               0   \n",
       "2                0                 0              0               0   \n",
       "3                0                 0              0               0   \n",
       "4                0                 0              0               0   \n",
       "\n",
       "   job_retired  job_self-employed  job_services  job_student  job_technician  \\\n",
       "0            0                  0             0            0               0   \n",
       "1            0                  0             0            0               0   \n",
       "2            1                  0             0            0               0   \n",
       "3            0                  0             0            0               0   \n",
       "4            1                  0             0            0               0   \n",
       "\n",
       "   job_unemployed  job_unknown  marital_married  marital_single  \\\n",
       "0               0            0                1               0   \n",
       "1               0            0                1               0   \n",
       "2               0            0                1               0   \n",
       "3               0            0                1               0   \n",
       "4               0            0                0               0   \n",
       "\n",
       "   marital_unknown  education_basic.6y  education_basic.9y  \\\n",
       "0                0                   0                   1   \n",
       "1                0                   0                   0   \n",
       "2                0                   0                   0   \n",
       "3                0                   0                   0   \n",
       "4                0                   0                   0   \n",
       "\n",
       "   education_high.school  education_illiterate  education_professional.course  \\\n",
       "0                      0                     0                              0   \n",
       "1                      0                     0                              0   \n",
       "2                      0                     0                              0   \n",
       "3                      0                     0                              0   \n",
       "4                      0                     0                              0   \n",
       "\n",
       "   education_university.degree  education_unknown  default_unknown  \\\n",
       "0                            0                  0                1   \n",
       "1                            1                  0                0   \n",
       "2                            0                  0                0   \n",
       "3                            1                  0                0   \n",
       "4                            1                  0                0   \n",
       "\n",
       "   default_yes  housing_unknown  housing_yes  loan_unknown  loan_yes  \\\n",
       "0            0                0            0             0         0   \n",
       "1            0                0            0             0         0   \n",
       "2            0                0            0             0         0   \n",
       "3            0                0            1             0         0   \n",
       "4            0                0            0             0         0   \n",
       "\n",
       "   contact_telephone  month_aug  month_dec  month_jul  month_jun  month_mar  \\\n",
       "0                  0          0          0          0          0          0   \n",
       "1                  1          0          0          0          0          0   \n",
       "2                  0          0          0          1          0          0   \n",
       "3                  1          0          0          0          0          0   \n",
       "4                  0          0          0          0          1          0   \n",
       "\n",
       "   month_may  month_nov  month_oct  month_sep  day_of_week_mon  \\\n",
       "0          0          1          0          0                0   \n",
       "1          0          1          0          0                0   \n",
       "2          0          0          0          0                1   \n",
       "3          1          0          0          0                1   \n",
       "4          0          0          0          0                0   \n",
       "\n",
       "   day_of_week_thu  day_of_week_tue  day_of_week_wed  poutcome_nonexistent  \\\n",
       "0                0                0                1                     1   \n",
       "1                0                0                1                     0   \n",
       "2                0                0                0                     1   \n",
       "3                0                0                0                     1   \n",
       "4                0                1                0                     1   \n",
       "\n",
       "   poutcome_success  \n",
       "0                 0  \n",
       "1                 0  \n",
       "2                 0  \n",
       "3                 0  \n",
       "4                 0  "
      ]
     },
     "execution_count": 29,
     "metadata": {},
     "output_type": "execute_result"
    }
   ],
   "source": [
    "df_exercicio2_cat_dum = pd.get_dummies(df_exercicio2_cat, prefix_sep='_', columns=df_exercicio2_cat.columns, drop_first=True)\n",
    "df_exercicio2_cat_dum.head()"
   ]
  },
  {
   "cell_type": "code",
   "execution_count": 30,
   "metadata": {},
   "outputs": [
    {
     "data": {
      "text/plain": [
       "(32950, 48)"
      ]
     },
     "execution_count": 30,
     "metadata": {},
     "output_type": "execute_result"
    }
   ],
   "source": [
    "df_exercicio2_modelagem = df_exercicio2_cat_dum.merge(df_exercicio2_num, left_index=True, right_index=True)\n",
    "df_exercicio2_modelagem.shape"
   ]
  },
  {
   "cell_type": "code",
   "execution_count": 31,
   "metadata": {},
   "outputs": [
    {
     "data": {
      "text/plain": [
       "['job_retired', 'marital_single', 'default_unknown', 'housing_yes', 'loan_yes']"
      ]
     },
     "execution_count": 31,
     "metadata": {},
     "output_type": "execute_result"
    }
   ],
   "source": [
    "# Variável resposta\n",
    "df_exercicio2_var_resp = df_exercicio2['age']\n",
    "\n",
    "# Seleção de variáveis categóricas\n",
    "\n",
    "dt_teste = DecisionTreeRegressor(random_state=42)\n",
    "dt_selecao = SelectFromModel(dt_teste, max_features=5)\n",
    "dt_selecao.fit(df_exercicio2_cat_dum, df_exercicio2_var_resp)\n",
    "dt_suporte = dt_selecao.get_support()\n",
    "dt_feature = df_exercicio2_cat_dum.loc[:, dt_suporte].columns.tolist()\n",
    "dt_feature"
   ]
  },
  {
   "cell_type": "code",
   "execution_count": 32,
   "metadata": {},
   "outputs": [
    {
     "data": {
      "text/plain": [
       "['duration', 'campaign', 'pdays', 'previous', 'difficulty']"
      ]
     },
     "execution_count": 32,
     "metadata": {},
     "output_type": "execute_result"
    }
   ],
   "source": [
    "# Seleção das variáveis numéricas\n",
    "\n",
    "rf_exercicio2 = RandomForestRegressor(random_state=42)\n",
    "rf_selecao = RFE(rf_exercicio2, n_features_to_select=5, step=1)\n",
    "rf_selecao.fit(df_exercicio2_num, df_exercicio2_var_resp)\n",
    "rf_suporte = rf_selecao.get_support()\n",
    "rf_feature = df_exercicio2_num.loc[:, rf_suporte].columns.tolist()\n",
    "rf_feature"
   ]
  },
  {
   "cell_type": "code",
   "execution_count": 33,
   "metadata": {},
   "outputs": [],
   "source": [
    "# Vamos usar no exercício todas as features (essa parte de seleção acima foi só para rever os conceitos)\n",
    "\n",
    "x_treino_exer, x_teste_exer, y_treino_exer, y_teste_exer = train_test_split(df_exercicio2_modelagem, df_exercicio2_var_resp, test_size=0.3, random_state=42)"
   ]
  },
  {
   "cell_type": "code",
   "execution_count": 39,
   "metadata": {},
   "outputs": [],
   "source": [
    "exercicio2_dict = {\n",
    "    'max_depth':[1, 50, 100],\n",
    "    'n_estimators':[50, 200, 500],\n",
    "    'random_state':[42]\n",
    "}"
   ]
  },
  {
   "cell_type": "markdown",
   "metadata": {},
   "source": [
    "## Modelo"
   ]
  },
  {
   "cell_type": "code",
   "execution_count": 40,
   "metadata": {},
   "outputs": [],
   "source": [
    "gb_exercicio2 = GradientBoostingRegressor(random_state=42)\n",
    "\n",
    "# tunning\n",
    "gb_exercicio2_tunning = GridSearchCV(gb_exercicio2, exercicio2_dict, cv=2, scoring=make_scorer(mean_absolute_error, greater_is_better=False))"
   ]
  },
  {
   "cell_type": "code",
   "execution_count": 41,
   "metadata": {},
   "outputs": [
    {
     "data": {
      "text/plain": [
       "GridSearchCV(cv=2, estimator=GradientBoostingRegressor(random_state=42),\n",
       "             param_grid={'max_depth': [1, 50, 100],\n",
       "                         'n_estimators': [50, 200, 500], 'random_state': [42]},\n",
       "             scoring=make_scorer(mean_absolute_error, greater_is_better=False))"
      ]
     },
     "execution_count": 41,
     "metadata": {},
     "output_type": "execute_result"
    }
   ],
   "source": [
    "gb_exercicio2_tunning.fit(x_treino_exer, y_treino_exer)"
   ]
  },
  {
   "cell_type": "code",
   "execution_count": 42,
   "metadata": {},
   "outputs": [
    {
     "data": {
      "text/plain": [
       "GradientBoostingRegressor(max_depth=1, n_estimators=500, random_state=42)"
      ]
     },
     "execution_count": 42,
     "metadata": {},
     "output_type": "execute_result"
    }
   ],
   "source": [
    "gb_exercicio2_tunning.best_estimator_"
   ]
  },
  {
   "cell_type": "code",
   "execution_count": 43,
   "metadata": {},
   "outputs": [
    {
     "data": {
      "text/plain": [
       "-6.59142518836844"
      ]
     },
     "execution_count": 43,
     "metadata": {},
     "output_type": "execute_result"
    }
   ],
   "source": [
    "gb_exercicio2_tunning.best_score_"
   ]
  },
  {
   "cell_type": "code",
   "execution_count": 44,
   "metadata": {},
   "outputs": [
    {
     "data": {
      "text/plain": [
       "6.576545274552671"
      ]
     },
     "execution_count": 44,
     "metadata": {},
     "output_type": "execute_result"
    }
   ],
   "source": [
    "mean_absolute_error(y_treino_exer, gb_exercicio2_tunning.predict(x_treino_exer))"
   ]
  },
  {
   "cell_type": "code",
   "execution_count": 45,
   "metadata": {},
   "outputs": [
    {
     "data": {
      "text/plain": [
       "6.5854359857213085"
      ]
     },
     "execution_count": 45,
     "metadata": {},
     "output_type": "execute_result"
    }
   ],
   "source": [
    "mean_absolute_error(y_teste_exer, gb_exercicio2_tunning.predict(x_teste_exer))"
   ]
  },
  {
   "cell_type": "code",
   "execution_count": 46,
   "metadata": {},
   "outputs": [
    {
     "data": {
      "text/plain": [
       "['gb_exercicio2_tunning.pkl']"
      ]
     },
     "execution_count": 46,
     "metadata": {},
     "output_type": "execute_result"
    }
   ],
   "source": [
    "joblib.dump(gb_exercicio2_tunning, 'gb_exercicio2_tunning.pkl')"
   ]
  },
  {
   "cell_type": "markdown",
   "metadata": {},
   "source": [
    "# Exercício 3: Clustering\n",
    "\n",
    "Os exercícios de clustering, devido à restrição computacional, estão no Google Colab"
   ]
  }
 ],
 "metadata": {
  "kernelspec": {
   "display_name": "Python 3.10.4 ('curso_modal')",
   "language": "python",
   "name": "python3"
  },
  "language_info": {
   "codemirror_mode": {
    "name": "ipython",
    "version": 3
   },
   "file_extension": ".py",
   "mimetype": "text/x-python",
   "name": "python",
   "nbconvert_exporter": "python",
   "pygments_lexer": "ipython3",
   "version": "3.10.4"
  },
  "orig_nbformat": 4,
  "vscode": {
   "interpreter": {
    "hash": "eae02dee9cb77fa3786d65f3baf49ce70db0dd38814ae63c78c06c18c05f070d"
   }
  }
 },
 "nbformat": 4,
 "nbformat_minor": 2
}
